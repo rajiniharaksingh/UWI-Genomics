{
 "cells": [
  {
   "cell_type": "code",
   "execution_count": 2,
   "metadata": {
    "collapsed": false
   },
   "outputs": [
    {
     "name": "stdout",
     "output_type": "stream",
     "text": [
      "Using matplotlib backend: MacOSX\n"
     ]
    }
   ],
   "source": [
    "import pandas as pd\n",
    "import numpy as np\n",
    "import matplotlib.pyplot as plt\n",
    "%matplotlib"
   ]
  },
  {
   "cell_type": "code",
   "execution_count": 11,
   "metadata": {
    "collapsed": false
   },
   "outputs": [
    {
     "name": "stdout",
     "output_type": "stream",
     "text": [
      "Finished Chromosome1\n"
     ]
    }
   ],
   "source": [
    "# Take the values from variations_start_stop.txt and consolidate tha ranges and put this into variable_regions.txt\n",
    "\n",
    "# def merge_intervals(times):\n",
    "#     saved = list(times[0])\n",
    "#     for st, en in sorted([sorted(t) for t in times]):\n",
    "#         if st <= saved[1]:\n",
    "#             saved[1] = max(saved[1], en)\n",
    "#         else:\n",
    "#             yield tuple(saved)\n",
    "#             saved[0] = st\n",
    "#             saved[1] = en\n",
    "#     yield tuple(saved)\n",
    "\n",
    "def merge_intervals(intervals):\n",
    "    #sort the intervals\n",
    "    sorted_by_lower_bound = sorted(intervals, key=lambda tup: tup[0])\n",
    "    merged = []\n",
    "\n",
    "    for higher in sorted_by_lower_bound:\n",
    "        if not merged:\n",
    "            merged.append(higher)\n",
    "        else:\n",
    "            lower = merged[-1]\n",
    "            # test for intersection between lower and higher:\n",
    "            # we know via sorting that lower[0] <= higher[0]\n",
    "            if higher[0] <= lower[1]:\n",
    "                upper_bound = max(lower[1], higher[1])\n",
    "                merged[-1] = (lower[0], upper_bound)  # replace by merged interval\n",
    "            else:\n",
    "                merged.append(higher)\n",
    "    return merged\n",
    "\n",
    "\n",
    "# read the text file\n",
    "df = pd.read_csv('variations_start_stop.txt', sep='\\t')\n",
    "all_chr = ['1', '2', '3', '4', '5', '6', '7', '8', '9', '10', '11', '12', '13',\n",
    "           '14', '15', '16', '17', '18', '19', '20', '21', '22', 'X', 'Y']\n",
    "\n",
    "for chrm in all_chr:\n",
    "\n",
    "    # choose chromosomes only in all_chr list since there maybe others\n",
    "    to_keep = [chrm]\n",
    "    # only keep rows that contain the string in to_keep\n",
    "    df_subset = df[df['chr'].isin(to_keep)]\n",
    "    # create intervals of the form: [(5, 7), (11, 116), (3, 4), (10, 12), (7, 8), (6, 12)]\n",
    "    intervals_list = []\n",
    "    for i in xrange(len(df_subset)):\n",
    "        intervals_list.append((df_subset.iloc[i,1], df_subset.iloc[i,2]))\n",
    "#     print \"done creating intervals\"\n",
    "    # runt the function to get the merged values\n",
    "    merged_list = merge_intervals(intervals_list)\n",
    "#     print \"done merging intervals\"\n",
    "    sorted_merged_list = sorted(merged_list, key=lambda tup: tup[0])\n",
    "#     print \"done sorting intervals\"\n",
    "    with open('variable_regions.txt', 'ab') as vr_file:\n",
    "        for vr in sorted_merged_list:\n",
    "            string = str(chrm) + '\\t' + str(vr[0]) + '\\t' + str(vr[1]) + '\\n'\n",
    "            vr_file.write(string)\n",
    "    print \"Finished Chromosome\" + str(chrm)"
   ]
  },
  {
   "cell_type": "code",
   "execution_count": 9,
   "metadata": {
    "collapsed": false
   },
   "outputs": [
    {
     "name": "stdout",
     "output_type": "stream",
     "text": [
      "Finished Chromosome1\n",
      "Finished Chromosome2\n",
      "Finished Chromosome3\n",
      "Finished Chromosome4\n",
      "Finished Chromosome5\n",
      "Finished Chromosome6\n",
      "Finished Chromosome7\n",
      "Finished Chromosome8\n",
      "Finished Chromosome9\n",
      "Finished Chromosome10\n",
      "Finished Chromosome11\n",
      "Finished Chromosome12\n",
      "Finished Chromosome13\n",
      "Finished Chromosome14\n",
      "Finished Chromosome15\n",
      "Finished Chromosome16\n",
      "Finished Chromosome17\n",
      "Finished Chromosome18\n",
      "Finished Chromosome19\n",
      "Finished Chromosome20\n",
      "Finished Chromosome21\n",
      "Finished Chromosome22\n",
      "Finished ChromosomeX\n",
      "Finished ChromosomeY\n"
     ]
    }
   ],
   "source": [
    "# take the values from variable_regions.txt and create non_variable_regions.txt where the NVR file is disjoint\n",
    "\n",
    "all_chr = ['1', '2', '3', '4', '5', '6', '7', '8', '9', '10', '11', '12', '13',\n",
    "           '14', '15', '16', '17', '18', '19', '20', '21', '22', 'X', 'Y']\n",
    "all_sizes = [248956422, 242193529, 198295559, 190214555, 181538259, 170805979,\n",
    "             159345973, 145138636, 138394717, 133797422, 135086622, 133275309,\n",
    "             114364328, 107043718, 101991189, 90338345, 83257441, 80373285,\n",
    "             58617616, 64444167, 46709983, 50818468, 156040895, 57227415]\n",
    "\n",
    "df = pd.read_csv('variable_regions.txt', sep='\\t', names=['chr', 'start', 'stop'], header=None)\n",
    "\n",
    "for chrm, end in zip(all_chr, all_sizes):\n",
    "\n",
    "    start = 1\n",
    "    non_variable_regions = []\n",
    "\n",
    "    to_keep = [chrm]\n",
    "    # only keep rows that contain the string in to_keep\n",
    "    df2 = df[df['chr'].isin(to_keep)]\n",
    "    for i in xrange(len(df2)):\n",
    "        # calculate the stop point, it is the base pair just before the start in the VR\n",
    "        stop = df2.iloc[i, 1] - 1\n",
    "        if start <= stop:\n",
    "            non_variable_regions.append([start, stop])\n",
    "        # calculate the start point, it is the base pair just after the stop in the VR\n",
    "        start = df2.iloc[i, 2] + 1\n",
    "\n",
    "    # need to determine if the last stop point is less than or equal to the total # of base pairs\n",
    "    # if it is then this is a new NVR\n",
    "    if start <= end:\n",
    "        non_variable_regions.append([start, end])\n",
    "\n",
    "    # save the file\n",
    "    with open('a_non_variable_regions.txt', 'ab') as myfile:\n",
    "        for non_variation in non_variable_regions:\n",
    "            string = chrm + '\\t' + str(non_variation[0]) + '\\t' + str(non_variation[1]) + '\\n'\n",
    "            myfile.write(string)\n",
    "    print \"Finished Chromosome\" + str(chrm)\n",
    "    \n",
    "df = pd.read_csv('a_non_variable_regions.txt', sep='\\t', header=None, names=['chr', 'start', 'stop'])\n",
    "nvr_bp = []\n",
    "for chrm in all_chr:\n",
    "    to_keep = [chrm]\n",
    "    # only keep rows that contain the string in to_keep\n",
    "    df2 = df[df['chr'].isin(to_keep)]\n",
    "    bp = sum(df2['stop'] - df2['start'] + 1)\n",
    "    nvr_bp.append(bp)\n",
    "\n",
    "N = len(nvr_bp)\n",
    "x = range(N)\n",
    "width = 1/1.5\n",
    "\n",
    "plt.bar(x, nvr_bp, width, color=\"blue\")\n",
    "plt.xlabel( 'Chromosome' )\n",
    "plt.ylabel( 'Size (Number of Base Pairs)' )\n",
    "plt.show()"
   ]
  },
  {
   "cell_type": "code",
   "execution_count": 10,
   "metadata": {
    "collapsed": false
   },
   "outputs": [
    {
     "name": "stdout",
     "output_type": "stream",
     "text": [
      "3088269832\n",
      "3088269832\n"
     ]
    }
   ],
   "source": [
    "# sanity check\n",
    "all_sizes = [248956422, 242193529, 198295559, 190214555, 181538259, 170805979,\n",
    "             159345973, 145138636, 138394717, 133797422, 135086622, 133275309,\n",
    "             114364328, 107043718, 101991189, 90338345, 83257441, 80373285,\n",
    "             58617616, 64444167, 46709983, 50818468, 156040895, 57227415]\n",
    "total_bp = sum(all_sizes)\n",
    "df1 = pd.read_csv('variable_regions.txt', sep='\\t', names=['chr', 'start', 'stop'], header=None)\n",
    "df2 = pd.read_csv('non_variable_regions.txt', sep='\\t', names=['chr', 'start', 'stop'], header=None)\n",
    "vr_bp = sum(df1['stop'] - df1['start'] + 1)\n",
    "nvr_bp = sum(df2['stop'] - df2['start'] + 1)\n",
    "print total_bp\n",
    "print vr_bp + nvr_bp\n",
    "\n",
    "\n",
    "# df = pd.read_csv('variable_regions.txt', sep='\\t', header=None, names=['chr', 'start', 'stop'])\n",
    "# for i in xrange(len(df)):\n",
    "#     if (df.iloc[i,2] - df.iloc[i,1] + 1) == 0:\n",
    "#         print i"
   ]
  },
  {
   "cell_type": "code",
   "execution_count": null,
   "metadata": {
    "collapsed": true
   },
   "outputs": [],
   "source": []
  }
 ],
 "metadata": {
  "kernelspec": {
   "display_name": "Python 2",
   "language": "python",
   "name": "python2"
  },
  "language_info": {
   "codemirror_mode": {
    "name": "ipython",
    "version": 2
   },
   "file_extension": ".py",
   "mimetype": "text/x-python",
   "name": "python",
   "nbconvert_exporter": "python",
   "pygments_lexer": "ipython2",
   "version": "2.7.11"
  }
 },
 "nbformat": 4,
 "nbformat_minor": 0
}
