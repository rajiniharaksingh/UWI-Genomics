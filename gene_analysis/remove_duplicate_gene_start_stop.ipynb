{
 "cells": [
  {
   "cell_type": "code",
   "execution_count": 59,
   "metadata": {
    "collapsed": false
   },
   "outputs": [
    {
     "name": "stdout",
     "output_type": "stream",
     "text": [
      "Using matplotlib backend: MacOSX\n"
     ]
    }
   ],
   "source": [
    "import pandas as pd\n",
    "import numpy as np\n",
    "import matplotlib.pyplot as plt\n",
    "%matplotlib"
   ]
  },
  {
   "cell_type": "code",
   "execution_count": 77,
   "metadata": {
    "collapsed": false
   },
   "outputs": [],
   "source": [
    "# CONVERT GENES_START_STOP TO A FILE WHERE DUPLICATE (SAME START AND STOP POINT) IDs ARE IN THE FORM ID1/ID2\n",
    "df = pd.read_csv('genes_start_stop.txt', sep=' ', header=None, names=['chr', 'start', 'stop', 'gid'])\n",
    "\n",
    "all_chr = ['1', '2', '3', '4', '5', '6', '7', '8', '9', '10', '11', '12', '13',\n",
    "           '14', '15', '16', '17', '18', '19', '20', '21', '22', 'X', 'Y'] # remove all other chromosome types\n",
    "\n",
    "# print df.head()\n",
    "\n",
    "\n",
    "with open('gene_start_stop_no_dups.csv', 'ab') as myfile:\n",
    "    # process each chromosome to make it more efficient\n",
    "    for i in all_chr:\n",
    "        chhr = [i]\n",
    "        df_t = df[df['chr'].isin(chhr)]\n",
    "        unique_gid_list = []\n",
    "        for i in xrange(len(df_t)):\n",
    "            #get only the start, stop and chromosome to compare (chr not necessary)\n",
    "            sub_gid = [item[0:3] for item in unique_gid_list]\n",
    "            \n",
    "            # get the new row in the data and only take the start, stop and chr\n",
    "            gene_row = list(df_t.iloc[i,:])\n",
    "            gene_row_sub = gene_row[0:3]\n",
    "            \n",
    "            # if the start, stop and chr matches we will concatenate the ids\n",
    "            if gene_row_sub in sub_gid:\n",
    "                idx = sub_gid.index(gene_row_sub)\n",
    "                val = unique_gid_list.pop(idx)\n",
    "\n",
    "                str_unique_gid_list = val[3]\n",
    "                str_gene_row = gene_row[3]\n",
    "                str_new = str_unique_gid_list + '/' + str_gene_row\n",
    "\n",
    "                val.pop(-1)\n",
    "                val.append(str_new)\n",
    "                unique_gid_list.append(val)\n",
    "            else:\n",
    "                unique_gid_list.append(gene_row)\n",
    "        \n",
    "        # sort the list by the start value\n",
    "        unique_gid_list.sort(key=lambda x: x[3])\n",
    "\n",
    "        #print the list to the file\n",
    "        for row in unique_gid_list:\n",
    "                string = str(row[0]) + ',' + str(row[1]) + ',' + str(row[2]) + ',' + str(row[3]) + '\\n'\n",
    "                myfile.write(string)"
   ]
  },
  {
   "cell_type": "code",
   "execution_count": 72,
   "metadata": {
    "collapsed": false
   },
   "outputs": [],
   "source": [
    "x = y = z = np.arange(0.0,5.0,1.0)\n",
    "np.savetxt('test.csv', x, delimiter=',') "
   ]
  },
  {
   "cell_type": "code",
   "execution_count": 27,
   "metadata": {
    "collapsed": false
   },
   "outputs": [
    {
     "data": {
      "text/plain": [
       "False"
      ]
     },
     "execution_count": 27,
     "metadata": {},
     "output_type": "execute_result"
    }
   ],
   "source": [
    "xx = [1,2,3,4,5]\n",
    "10 in xx"
   ]
  },
  {
   "cell_type": "code",
   "execution_count": null,
   "metadata": {
    "collapsed": true
   },
   "outputs": [],
   "source": []
  }
 ],
 "metadata": {
  "kernelspec": {
   "display_name": "Python 2",
   "language": "python",
   "name": "python2"
  },
  "language_info": {
   "codemirror_mode": {
    "name": "ipython",
    "version": 2
   },
   "file_extension": ".py",
   "mimetype": "text/x-python",
   "name": "python",
   "nbconvert_exporter": "python",
   "pygments_lexer": "ipython2",
   "version": "2.7.11"
  }
 },
 "nbformat": 4,
 "nbformat_minor": 0
}
